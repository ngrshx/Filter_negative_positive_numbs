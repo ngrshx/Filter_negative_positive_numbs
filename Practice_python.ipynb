{
  "nbformat": 4,
  "nbformat_minor": 0,
  "metadata": {
    "colab": {
      "provenance": [],
      "authorship_tag": "ABX9TyPkMbqF4/DKJSGGKeRKBvgW",
      "include_colab_link": true
    },
    "kernelspec": {
      "name": "python3",
      "display_name": "Python 3"
    },
    "language_info": {
      "name": "python"
    }
  },
  "cells": [
    {
      "cell_type": "markdown",
      "metadata": {
        "id": "view-in-github",
        "colab_type": "text"
      },
      "source": [
        "<a href=\"https://colab.research.google.com/github/ngrshx/Filter_negative_positive_numbs/blob/main/Untitled2.ipynb\" target=\"_parent\"><img src=\"https://colab.research.google.com/assets/colab-badge.svg\" alt=\"Open In Colab\"/></a>"
      ]
    },
    {
      "cell_type": "code",
      "execution_count": 1,
      "metadata": {
        "colab": {
          "base_uri": "https://localhost:8080/"
        },
        "id": "m55MEotF4GpL",
        "outputId": "b0fe56c6-a578-4206-da9e-89b4d60d5a1e"
      },
      "outputs": [
        {
          "output_type": "stream",
          "name": "stdout",
          "text": [
            "8\n"
          ]
        }
      ],
      "source": [
        "a = 3\n",
        "b = 5\n",
        "print(a+b)"
      ]
    },
    {
      "cell_type": "code",
      "source": [
        "list1 = [1, 2, 3, 4]\n",
        "\n",
        "list1.reverse()\n",
        "print(list1)"
      ],
      "metadata": {
        "colab": {
          "base_uri": "https://localhost:8080/"
        },
        "id": "iJ-4t5_l4a6M",
        "outputId": "de861020-ac3f-4084-e1af-4c462c34d04f"
      },
      "execution_count": 2,
      "outputs": [
        {
          "output_type": "stream",
          "name": "stdout",
          "text": [
            "[4, 3, 2, 1]\n"
          ]
        }
      ]
    },
    {
      "cell_type": "code",
      "source": [
        "list2 = [4,1,9,3]\n",
        "\n",
        "max_num = list2[0]\n",
        "min_num = list2[0]\n",
        "for i in list2:\n",
        "  if i > max_num:\n",
        "    max_num = i\n",
        "    print(f'{max_num} is a max number')\n",
        "  if i < min_num:\n",
        "    min_num = i\n",
        "    print(f'{min_num} is a min number')"
      ],
      "metadata": {
        "colab": {
          "base_uri": "https://localhost:8080/"
        },
        "id": "OTpEBy_w8r3y",
        "outputId": "f0adcdc3-c96e-4f6d-fe90-b15431b2ca58"
      },
      "execution_count": 10,
      "outputs": [
        {
          "output_type": "stream",
          "name": "stdout",
          "text": [
            "1is a min number\n",
            "9 is a max number\n"
          ]
        }
      ]
    },
    {
      "cell_type": "code",
      "source": [
        "list3 = [1,2,3,3,4,5,6,7,8,8,9,10]\n",
        "list4 = []\n",
        "\n",
        "for i in list3:\n",
        "  if i not in list4:\n",
        "    list4.append(i)\n",
        "\n",
        "print(list4)"
      ],
      "metadata": {
        "colab": {
          "base_uri": "https://localhost:8080/"
        },
        "id": "3k4Zsc8l_87Q",
        "outputId": "c3a2503f-ab8a-4041-c6ea-b0d71d375450"
      },
      "execution_count": 13,
      "outputs": [
        {
          "output_type": "stream",
          "name": "stdout",
          "text": [
            "[1, 2, 3, 4, 5, 6, 7, 8, 9, 10]\n"
          ]
        }
      ]
    },
    {
      "cell_type": "code",
      "source": [
        "list5 = [10,9,4,3]\n",
        "\n",
        "print(sum(list5))"
      ],
      "metadata": {
        "colab": {
          "base_uri": "https://localhost:8080/"
        },
        "id": "vbWvFiHGCQly",
        "outputId": "22e0f88f-8e5c-4145-e2fe-e028929767eb"
      },
      "execution_count": 15,
      "outputs": [
        {
          "output_type": "stream",
          "name": "stdout",
          "text": [
            "26\n"
          ]
        }
      ]
    },
    {
      "cell_type": "code",
      "source": [
        "list6 = []\n",
        "if not list6:\n",
        "  print(\"True\")\n",
        "else:\n",
        "  print(\"False\")"
      ],
      "metadata": {
        "colab": {
          "base_uri": "https://localhost:8080/"
        },
        "id": "epTTI-OnClNy",
        "outputId": "35bb18e8-140f-4035-cce5-e89fa4c7a0d9"
      },
      "execution_count": 18,
      "outputs": [
        {
          "output_type": "stream",
          "name": "stdout",
          "text": [
            "True\n"
          ]
        }
      ]
    },
    {
      "cell_type": "code",
      "source": [
        "list7 = [3,4,5,6,7,8,9]\n",
        "\n",
        "first = second = float('-inf')\n",
        "\n",
        "for i in list7:\n",
        "  if i > first:\n",
        "    second = first\n",
        "    first = i\n",
        "  elif first > i >second:\n",
        "    second = i\n",
        "\n",
        "print(f'{second} is the second largest number')\n"
      ],
      "metadata": {
        "colab": {
          "base_uri": "https://localhost:8080/"
        },
        "id": "ZWIX3MbiDK9n",
        "outputId": "3fa181c7-f53a-4ec4-c2e2-9f81d7f9433e"
      },
      "execution_count": 26,
      "outputs": [
        {
          "output_type": "stream",
          "name": "stdout",
          "text": [
            "8 is the second largest number\n"
          ]
        }
      ]
    },
    {
      "cell_type": "code",
      "source": [
        "list7 = [3, 4, 5, 6, 7, 8, 9]\n",
        "\n",
        "first = max(list7)\n",
        "list7.remove(first)\n",
        "second = max(list7)\n",
        "\n",
        "print(f'Second largest: {second}')"
      ],
      "metadata": {
        "id": "YVBXoVqmMPB0"
      },
      "execution_count": null,
      "outputs": []
    },
    {
      "cell_type": "code",
      "source": [
        "\n",
        "list8 = [1,2,3,4,4,5]\n",
        "\n",
        "dublicate_numbers = []\n",
        "not_dublicate = []\n",
        "\n",
        "for i in list8:\n",
        "  if i in not_dublicate and i not in dublicate_numbers:\n",
        "    dublicate_numbers.append(i)\n",
        "  else:\n",
        "    not_dublicate.append(i)\n",
        "\n",
        "print(dublicate_numbers)"
      ],
      "metadata": {
        "colab": {
          "base_uri": "https://localhost:8080/"
        },
        "id": "3jI8Esu7Nt62",
        "outputId": "b0f5032a-ad17-44f9-ed29-fec302349a97"
      },
      "execution_count": 37,
      "outputs": [
        {
          "output_type": "stream",
          "name": "stdout",
          "text": [
            "[4]\n"
          ]
        }
      ]
    },
    {
      "cell_type": "code",
      "source": [
        "\n",
        "list10 = [2,3,4,5,6,7,8,9]\n",
        "\n",
        "for i in list10:\n",
        "  if i % 2 != 0:\n",
        "    list10.remove(i)\n",
        "\n",
        "\n",
        "print(list10)"
      ],
      "metadata": {
        "colab": {
          "base_uri": "https://localhost:8080/"
        },
        "id": "OD8bRcc-TgxZ",
        "outputId": "f9895398-7787-417c-f812-50f87c4c9b77"
      },
      "execution_count": 41,
      "outputs": [
        {
          "output_type": "stream",
          "name": "stdout",
          "text": [
            "[2, 4, 6, 8]\n"
          ]
        }
      ]
    },
    {
      "cell_type": "code",
      "source": [
        "list11 = [2,3,4,5]\n",
        "list12 = [4,5,6,7]\n",
        "\n",
        "print(list(set(list11).intersection(list(set(list12)))))\n",
        "\n"
      ],
      "metadata": {
        "colab": {
          "base_uri": "https://localhost:8080/"
        },
        "id": "TyxLxWtfUnC_",
        "outputId": "961558b0-f51d-496b-a60a-6f40de623682"
      },
      "execution_count": 43,
      "outputs": [
        {
          "output_type": "stream",
          "name": "stdout",
          "text": [
            "[4, 5]\n"
          ]
        }
      ]
    },
    {
      "cell_type": "code",
      "source": [
        "my_dict1 = {\"name\": \"Nigar\", \"e-mail\":\"nigar.shikhalizada@gmail.com\", \"number\": \"+971556129801\"}\n",
        "\n",
        "for key, value in my_dict1.items():\n",
        "  print(key, value)\n"
      ],
      "metadata": {
        "colab": {
          "base_uri": "https://localhost:8080/"
        },
        "id": "NUy4e6zVYxjw",
        "outputId": "d04f2648-1c33-4e01-9876-e56f757e3679"
      },
      "execution_count": 44,
      "outputs": [
        {
          "output_type": "stream",
          "name": "stdout",
          "text": [
            "name Nigar\n",
            "e-mail nigar.shikhalizada@gmail.com\n",
            "number +971556129801\n"
          ]
        }
      ]
    },
    {
      "cell_type": "code",
      "source": [
        "my_dict1 = {\"name\": \"Nigar\", \"e-mail\":\"nigar.shikhalizada@gmail.com\", \"number\": \"+971556129801\"}\n",
        "\n",
        "my_dict1.update({\"name\": \"Emin\"})\n",
        "\n",
        "for key, value in my_dict1.items():\n",
        "  print(key, value)\n"
      ],
      "metadata": {
        "colab": {
          "base_uri": "https://localhost:8080/"
        },
        "id": "5-YqyFyDZhi1",
        "outputId": "cbe99678-bfa7-418c-904f-6ea868a8d964"
      },
      "execution_count": 49,
      "outputs": [
        {
          "output_type": "stream",
          "name": "stdout",
          "text": [
            "name Emin\n",
            "e-mail nigar.shikhalizada@gmail.com\n",
            "number +971556129801\n"
          ]
        }
      ]
    },
    {
      "cell_type": "code",
      "source": [
        "my_dict1 = {\"name\": \"Nigar\", \"e-mail\":\"nigar.shikhalizada@gmail.com\", \"number\": \"+971556129801\"}\n",
        "\n",
        "my_dict1[\"city\"] = \"Dubai\"\n",
        "\n",
        "for key, value in my_dict1.items():\n",
        "  print(key, value)"
      ],
      "metadata": {
        "colab": {
          "base_uri": "https://localhost:8080/"
        },
        "id": "2T2OgnSrbbgm",
        "outputId": "a647cb2b-53ff-47c4-f03c-337e03340367"
      },
      "execution_count": 50,
      "outputs": [
        {
          "output_type": "stream",
          "name": "stdout",
          "text": [
            "name Nigar\n",
            "e-mail nigar.shikhalizada@gmail.com\n",
            "number +971556129801\n",
            "city Dubai\n"
          ]
        }
      ]
    }
  ]
}
